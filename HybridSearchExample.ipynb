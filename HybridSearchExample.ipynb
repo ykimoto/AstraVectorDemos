{
 "cells": [
  {
   "cell_type": "code",
   "execution_count": null,
   "metadata": {},
   "outputs": [],
   "source": [
    "# Install and Import all required libraries\n",
    "\n",
    "%pip install openai pandas cassandra-driver\n",
    "from cassandra.cluster import Cluster\n",
    "from cassandra.auth import PlainTextAuthProvider\n",
    "from cassandra.query import dict_factory\n",
    "from cassandra.query import SimpleStatement\n",
    "from getpass import getpass\n",
    "import openai\n",
    "import numpy\n",
    "import pandas as pd\n",
    "import os"
   ]
  },
  {
   "cell_type": "code",
   "execution_count": null,
   "metadata": {},
   "outputs": [],
   "source": [
    "# Collect all information required to connect to your Astra Database and OpenAI API. Also specify the model_id for generating the embeddings.\n",
    "\n",
    "ASTRA_DB_SECURE_BUNDLE_PATH = input(\"Please provide the full path to your Secure Connect Bundle zipfile: \")\n",
    "ASTRA_DB_APPLICATION_TOKEN = getpass(\"Please provide your Database Token ('AstraCS:...' string): \")\n",
    "ASTRA_DB_KEYSPACE = input(\"Please provide the Keyspace name for your Database: \")\n",
    "OPENAI_API_KEY = getpass(\"Please enter your OpenAI API Key: \")\n",
    "model_id = \"text-embedding-ada-002\""
   ]
  },
  {
   "cell_type": "code",
   "execution_count": null,
   "metadata": {},
   "outputs": [],
   "source": [
    "# Connect to your Astra Database\n",
    "\n",
    "cluster = Cluster(\n",
    "    cloud={\n",
    "        \"secure_connect_bundle\": ASTRA_DB_SECURE_BUNDLE_PATH\n",
    "    },\n",
    "    auth_provider=PlainTextAuthProvider(\"token\", ASTRA_DB_APPLICATION_TOKEN),\n",
    ")\n",
    "\n",
    "session = cluster.connect()\n",
    "session.set_keyspace(ASTRA_DB_KEYSPACE)\n"
   ]
  },
  {
   "cell_type": "code",
   "execution_count": null,
   "metadata": {},
   "outputs": [],
   "source": [
    "# Create the table to store recipes\n",
    "keyspace = ASTRA_DB_KEYSPACE\n",
    "analyzer = {\"index_analyzer\" : \"standard\"}\n",
    "\n",
    "session.execute(f\"\"\"CREATE TABLE IF NOT EXISTS {keyspace}.recipes_table (\n",
    "    recipe_id int,\n",
    "    recipe_type text,\n",
    "    recipe_description text,\n",
    "    ingredients text,\n",
    "    instructions text,\n",
    "    recipe_vector vector<float, 1536>,\n",
    "    PRIMARY KEY (recipe_id))\"\"\"\n",
    ")\n",
    "\n",
    "# Create the indexes for the table, including the index for the recipe_vector column and the ingredients column.\n",
    "# The ingredients column will use the standard analyzer, which will tokenize the ingredients text.\n",
    "session.execute(f\"\"\"CREATE CUSTOM INDEX IF NOT EXISTS recipe_vec_idx ON {keyspace}.recipes_table (recipe_vector) USING 'StorageAttachedIndex'\"\"\")\n",
    "session.execute(f\"\"\"CREATE CUSTOM INDEX IF NOT EXISTS ingredients_idx ON {keyspace}.recipes_table (ingredients) USING 'StorageAttachedIndex' WITH OPTIONS = {analyzer}\"\"\")"
   ]
  },
  {
   "cell_type": "code",
   "execution_count": null,
   "metadata": {},
   "outputs": [],
   "source": [
    "# Read in the CSV file containing the recipes.\n",
    "\n",
    "recipes = pd.read_csv('CookingSuggestions/recipe_data/recipie_en.csv')\n",
    "recipes"
   ]
  },
  {
   "cell_type": "code",
   "execution_count": null,
   "metadata": {},
   "outputs": [],
   "source": [
    "# Insert the recipes into the table, and generate the recipe_vector for each recipe using the OpenAI API.\n",
    "\n",
    "openai.api_key = OPENAI_API_KEY\n",
    "for id, row in recipes.iterrows():\n",
    "    recipe_id = row['RecipeID']\n",
    "    recipe_type = row['Type']\n",
    "    recipe_description = row['Description']\n",
    "    ingredients = row['Ingredients']\n",
    "    instructions = row['Instructions']\n",
    "    recipe_vsource = f'{recipe_description}, which is a type of {recipe_type}, is made of {ingredients} by following the these cooking instructions: {instructions}'\n",
    "    recipe_vector = openai.Embedding.create(input=recipe_vsource, model=model_id)['data'][0]['embedding']\n",
    "    session.execute(f\"\"\"INSERT INTO {keyspace}.recipes_table (recipe_id, recipe_type, recipe_description, ingredients, instructions, recipe_vector)\n",
    "                        VALUES ({recipe_id}, '{recipe_type}', '{recipe_description}', '{ingredients}', '{instructions}', {recipe_vector})\"\"\")"
   ]
  },
  {
   "cell_type": "code",
   "execution_count": null,
   "metadata": {},
   "outputs": [],
   "source": [
    "# Ask some questions to the user to get the meal preference and ingredient for the next meal to be cooked.\n",
    "\n",
    "meal_preference = input(\"What type of meal would you like to cook? \")\n",
    "ingredient_input = input(\"Please specify an ingredient that you want to use for cooking your next meal: \")\n",
    "\n",
    "embedding = openai.Embedding.create(input=meal_preference, model=model_id)['data'][0]['embedding']"
   ]
  },
  {
   "cell_type": "code",
   "execution_count": null,
   "metadata": {},
   "outputs": [],
   "source": [
    "# The query below will return the top 5 recipes that are most similar to the meal preference and ingredient specified by the user.\n",
    "# The query uses the ANN index on the recipe_vector column to find the most similar recipes, and the ingredients column to filter the results.\n",
    "# The query also uses the ORDER BY clause to sort the results by the similarity score, and the LIMIT clause to return only the top 5 results.\n",
    "\n",
    "query = SimpleStatement(\n",
    "    f\"\"\"\n",
    "    SELECT *\n",
    "    FROM {keyspace}.recipes_table\n",
    "    WHERE ingredients : '{ingredient_input}'\n",
    "    ORDER BY recipe_vector ANN OF {embedding} LIMIT 5;\n",
    "    \"\"\"\n",
    "    )\n",
    "display(query)"
   ]
  },
  {
   "cell_type": "code",
   "execution_count": null,
   "metadata": {},
   "outputs": [],
   "source": [
    "# Execute the query and display the results.\n",
    "# If no results are returned, then display a message to the user to try again.\n",
    "\n",
    "recipes_to_cook = session.execute(query)\n",
    "if not the_recipes:\n",
    "    print(\"There were no recipes found for your search criteria. Please try again.\")\n",
    "else:\n",
    "    the_recipes = recipes_to_cook._current_rows\n",
    "    print(f\"\"\"You can cook the following recipes with {ingredient_input}: \\n\"\"\")\n",
    "    for row in the_recipes:\n",
    "        print(f\"\"\"{row.recipe_description} ({row.recipe_type}) using {row.ingredients}, with the following cooking instructions: {row.instructions} \\n\"\"\")"
   ]
  }
 ],
 "metadata": {
  "language_info": {
   "name": "python"
  }
 },
 "nbformat": 4,
 "nbformat_minor": 2
}
